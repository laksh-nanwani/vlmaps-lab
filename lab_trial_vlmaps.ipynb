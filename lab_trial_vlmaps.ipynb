{
  "cells": [
    {
      "cell_type": "markdown",
      "metadata": {
        "id": "0GwPgBk8kfyf"
      },
      "source": [
        "# License\n",
        "our code uses the MIT license. Part of our implementation is inspired by the code from [habitat_sim (MIT license)](https://aihabitat.org/), [LSeg (MIT license)](https://github.com/isl-org/lang-seg), and [CLIP (MIT license)](https://github.com/openai/CLIP). We would like to express our gratitude to the developers of these projects."
      ]
    },
    {
      "cell_type": "markdown",
      "metadata": {
        "id": "Dwnm5ejRay6M"
      },
      "source": [
        "# VLMap Creation"
      ]
    },
    {
      "cell_type": "markdown",
      "metadata": {
        "id": "qGE7-tYxay6O"
      },
      "source": [
        "## Download the data and install dependencies"
      ]
    },
    {
      "cell_type": "code",
      "execution_count": 126,
      "metadata": {
        "colab": {
          "base_uri": "https://localhost:8080/"
        },
        "id": "kSqNl2ZFay6O",
        "outputId": "886f4eca-dfd9-4bf9-af34-03898ffd54b5"
      },
      "outputs": [
        {
          "name": "stdout",
          "output_type": "stream",
          "text": [
            "['/home2/laksh.nanwani/vlmaps-lab']\n",
            "/home2/laksh.nanwani/vlmaps-lab\n",
            "/scratch/laksh.nanwani/vlmaps_data/data_p3dx_vlmaps\n"
          ]
        }
      ],
      "source": [
        "root_dir = !pwd\n",
        "print(root_dir)\n",
        "root_dir = root_dir[0]\n",
        "print(root_dir)\n",
        "# !mkdir data\n",
        "# %cd data\n",
        "# !gdown 1wjuiVcO92Rqer5gLk-X7hINfe4PCMQmu\n",
        "# !pip install tqdm\n",
        "# !unzip -o 5LpN3gDmAk7_1.zip | tqdm --desc extracted --unit files --unit_scale --total `unzip -l 5LpN3gDmAk7_1.zip | tail -n 1 | xargs echo -n | cut -d' ' -f2` > /dev/null\n",
        "import os\n",
        "data_root = os.path.join(root_dir.split(\"home2\")[0], \"scratch/laksh.nanwani/vlmaps_data\")\n",
        "\n",
        "# checkpoint_dir = os.path.join(data_root, \"checkpoints\")\n",
        "folder_name = \"data_p3dx_vlmaps\"\n",
        "data_dir = os.path.join(data_root, folder_name)\n",
        "# data_dir = os.path.join(data_root, \"data_depth_issue\")\n",
        "\n",
        "\n",
        "# print(checkpoint_dir)\n",
        "print(data_dir)"
      ]
    },
    {
      "cell_type": "markdown",
      "metadata": {
        "id": "6NgQzJ-vj7pC"
      },
      "source": [
        "## Visualize the Dataset"
      ]
    },
    {
      "cell_type": "code",
      "execution_count": 127,
      "metadata": {
        "cellView": "form",
        "id": "o_924KxNQEPp"
      },
      "outputs": [],
      "source": [
        "# @title Helper functions for video creation and display\n",
        "import sys\n",
        "import os\n",
        "import imageio\n",
        "import numpy as np\n",
        "import cv2\n",
        "import tqdm\n",
        "from IPython.display import HTML\n",
        "from base64 import b64encode\n",
        "\n",
        "from scipy.spatial.transform import Rotation as R\n",
        "\n",
        "if \"google.colab\" in sys.modules:\n",
        "    os.environ[\"IMAGEIO_FFMPEG_EXE\"] = \"/usr/bin/ffmpeg\"\n",
        "\n",
        "# @markdown if the colab instance doesn't have GPU, untick the following checkbox\n",
        "has_gpu = True # @param {type: \"boolean\"}\n",
        "codec = \"h264\"\n",
        "if has_gpu:\n",
        "  codec = \"h264_nvenc\"\n",
        "\n",
        "def load_depth(depth_filepath):\n",
        "    with open(depth_filepath, 'rb') as f:\n",
        "        depth = np.load(f)\n",
        "    return depth / 1000\n",
        "    # return depth\n",
        "\n",
        "def load_pose(pose_filepath):\n",
        "    with open(pose_filepath, 'rb') as f:\n",
        "        full_pose = np.load(f)\n",
        "        pos = np.array(full_pose[:3], dtype=float).reshape((3, 1))\n",
        "        quat = full_pose[3:]\n",
        "        # quat[[1,2]] = quat[[2,1]]\n",
        "        r = R.from_quat(quat)\n",
        "        rot = r.as_matrix()\n",
        "\n",
        "        return pos, rot\n",
        "\n",
        "def get_fast_video_writer(video_file: str, fps: int = 60):\n",
        "    if (\n",
        "        \"google.colab\" in sys.modules\n",
        "        and os.path.splitext(video_file)[-1] == \".mp4\"\n",
        "        and os.environ.get(\"IMAGEIO_FFMPEG_EXE\") == \"/usr/bin/ffmpeg\"\n",
        "    ):\n",
        "        # USE GPU Accelerated Hardware Encoding\n",
        "        writer = imageio.get_writer(\n",
        "            video_file,\n",
        "            fps=fps,\n",
        "            codec=codec,\n",
        "            mode=\"I\",\n",
        "            bitrate=\"1000k\",\n",
        "            format=\"FFMPEG\",\n",
        "            ffmpeg_log_level=\"info\",\n",
        "            quality=10,\n",
        "            output_params=[\"-minrate\", \"500k\", \"-maxrate\", \"5000k\"],\n",
        "        )\n",
        "    else:\n",
        "        # Use software encoding\n",
        "        writer = imageio.get_writer(video_file, fps=fps)\n",
        "    return writer\n",
        "\n",
        "def create_video(data_dir: str, output_dir: str, fps: int = 30):\n",
        "    \n",
        "    rgb_dir = os.path.join(data_dir, \"rgb\")\n",
        "    depth_dir = os.path.join(data_dir, \"depth\")\n",
        "    rgb_out_path = os.path.join(output_dir, \"rgb.mp4\")\n",
        "    depth_out_path = os.path.join(output_dir, \"depth.mp4\")\n",
        "    rgb_writer = get_fast_video_writer(rgb_out_path, fps=fps)\n",
        "    depth_writer = get_fast_video_writer(depth_out_path, fps=fps)\n",
        "\n",
        "    rgb_list = sorted(os.listdir(rgb_dir), key=lambda x: int(\n",
        "        x.split(\"_\")[-1].split(\".\")[0]))\n",
        "    depth_list = sorted(os.listdir(depth_dir), key=lambda x: int(\n",
        "        x.split(\"_\")[-1].split(\".\")[0]))\n",
        "\n",
        "    rgb_list = [os.path.join(rgb_dir, x) for x in rgb_list]\n",
        "    depth_list = [os.path.join(depth_dir, x) for x in depth_list]\n",
        "    pbar = tqdm.tqdm(total=len(rgb_list), position=0, leave=True)\n",
        "    for i, (rgb_path, depth_path) in enumerate(zip(rgb_list, depth_list)):\n",
        "        bgr = cv2.imread(rgb_path)\n",
        "        rgb = cv2.cvtColor(bgr, cv2.COLOR_BGR2RGB)\n",
        "\n",
        "        depth = load_depth(depth_path)\n",
        "        depth_max = np.max(depth)\n",
        "        # print(f\"depth max {np.max(depth)}, depth min {np.min(depth)}\")\n",
        "        depth_vis = (depth / depth_max * 255).astype(np.uint8)\n",
        "        # print(f\"depth_vis max {np.max(depth_vis)}, depth min {np.min(depth_vis)}\")\n",
        "\n",
        "        depth_color = cv2.applyColorMap(depth_vis, cv2.COLORMAP_JET)\n",
        "\n",
        "        rgb_writer.append_data(rgb)\n",
        "        depth_writer.append_data(depth_color)\n",
        "        pbar.update(1)\n",
        "    rgb_writer.close()\n",
        "    depth_writer.close()\n",
        "\n",
        "def show_video(video_path, video_width = 1080):\n",
        "   \n",
        "    video_file = open(video_path, \"r+b\").read()\n",
        "  \n",
        "    video_url = f\"data:video/mp4;base64,{b64encode(video_file).decode()}\"\n",
        "    return HTML(f\"\"\"<video width={video_width} autoplay controls><source src=\"{video_url}\"></video>\"\"\")\n",
        "\n",
        "def show_videos(video_paths, video_width = 1080):\n",
        "    html = \"\"\n",
        "    for video_path in video_paths:\n",
        "        video_file = open(video_path, \"r+b\").read()\n",
        "      \n",
        "        video_url = f\"data:video/mp4;base64,{b64encode(video_file).decode()}\"\n",
        "        html += f\"\"\"<video width={video_width} autoplay controls><source src=\"{video_url}\"></video>\n",
        "                 \"\"\"\n",
        "    return HTML(html)\n",
        "\n"
      ]
    },
    {
      "cell_type": "code",
      "execution_count": 128,
      "metadata": {},
      "outputs": [],
      "source": [
        "# x = load_depth(os.path.join(data_dir, \"depth\", \"depth_74.npy\"))\n",
        "# x[700, 500]"
      ]
    },
    {
      "cell_type": "code",
      "execution_count": 129,
      "metadata": {
        "colab": {
          "base_uri": "https://localhost:8080/"
        },
        "id": "1tQr877M5Utk",
        "outputId": "480806e0-4c50-4321-f637-cc8dc67dd132"
      },
      "outputs": [],
      "source": [
        "# create_video(data_dir, os.path.join(root_dir, \"lab_videos\"), fps=30)"
      ]
    },
    {
      "cell_type": "code",
      "execution_count": 130,
      "metadata": {
        "colab": {
          "base_uri": "https://localhost:8080/",
          "height": 736
        },
        "id": "KkIirVjAUore",
        "outputId": "cabb6b41-2001-43a5-eb01-43bdb10d372e"
      },
      "outputs": [],
      "source": [
        "# show rgb and depth\n",
        "# show_videos([root_dir + \"/rgb.mp4\", root_dir + \"/depth.mp4\"])\n"
      ]
    },
    {
      "cell_type": "markdown",
      "metadata": {
        "id": "pxXEIrbYay6R"
      },
      "source": [
        "## Download LSeg checkpoint"
      ]
    },
    {
      "cell_type": "code",
      "execution_count": 131,
      "metadata": {
        "colab": {
          "base_uri": "https://localhost:8080/"
        },
        "id": "U5tagQHkay6R",
        "outputId": "d1f26179-64d2-4466-e8ae-319e1312f786"
      },
      "outputs": [],
      "source": [
        "# %cd {data_root}\n",
        "# !mkdir lseg\n",
        "# %cd lseg\n",
        "# !mkdir checkpoints\n",
        "# %cd checkpoints\n",
        "# !gdown 1ayk6NXURI_vIPlym16f_RG3ffxBWHxvb\n",
        "# !ls\n",
        "# %cd {root_dir}"
      ]
    },
    {
      "cell_type": "markdown",
      "metadata": {
        "id": "z0m1nbfGay6R"
      },
      "source": [
        "## VLMap Creation\n",
        "It takes around 20 minutes to build a VLMap with around 1000 RGBD frames. We also provide a pre-built VLMap. Skip to the Landmark Indexing part of the code to directly try our map."
      ]
    },
    {
      "cell_type": "code",
      "execution_count": 132,
      "metadata": {
        "id": "bx_EfAUoay6S"
      },
      "outputs": [],
      "source": [
        "# setup parameters\n",
        "# @markdown meters per cell size\n",
        "cs = 0.05 # @param {type: \"number\"}\n",
        "# @markdown map resolution (gs x gs)\n",
        "gs = 1000 # @param {type: \"integer\"}\n",
        "# @markdown camera height (used for filtering out points on the floor)\n",
        "# camera_height = 1.5 # @param {type: \"number\"}\n",
        "# 0.747 - odom -> camera_link\n",
        "# 0.51 - map -> camera_link\n",
        "# camera_height = 0.747\n",
        "# camera_translation = [0.2, -0.222, 0.512]   # wheelchair\n",
        "# camera_translation = [0.1, 0.018, 0.81]   # p3dx real height from ground\n",
        "camera_translation = [0.1, 0.018, 0.5]   # p3dx base_link to camera_link\n",
        "# @markdown depth pixels subsample rate\n",
        "depth_sample_rate = 50 # @param {type: \"integer\"}\n",
        "# @markdown data where rgb, depth, pose are loaded and map are saved\n",
        "data_dir = data_dir # @param {type: \"string\"}"
      ]
    },
    {
      "cell_type": "code",
      "execution_count": 133,
      "metadata": {},
      "outputs": [],
      "source": [
        "# x = np.arange(6).reshape((2,3))\n",
        "# (x[1, :] > 2) & (x[1, :] < 4)"
      ]
    },
    {
      "cell_type": "code",
      "execution_count": 134,
      "metadata": {
        "cellView": "form",
        "colab": {
          "base_uri": "https://localhost:8080/"
        },
        "id": "F7LPO-wYo-EA",
        "outputId": "1001d1a0-7e40-4c7d-96e2-b51e465b59e8"
      },
      "outputs": [],
      "source": [
        "# @title Helper functions for VLMap Creation\n",
        "\n",
        "import os\n",
        "import math\n",
        "\n",
        "import numpy as np\n",
        "import cv2\n",
        "from tqdm import tqdm\n",
        "import torch\n",
        "import torchvision.transforms as transforms\n",
        "import clip\n",
        "import matplotlib.pyplot as plt\n",
        "\n",
        "from utils.clip_mapping_utils import load_semantic, load_obj2cls_dict, save_map, cvt_obj_id_2_cls_id, depth2pc_realsense, transform_pc, get_real_cam_mat, pos2grid_id, project_point, get_color\n",
        "# from utils.clip_mapping_utils import load_pose\n",
        "\n",
        "from lseg.modules.models.lseg_net import LSegEncNet\n",
        "from lseg.additional_utils.models import resize_image, pad_image, crop_image\n",
        "\n",
        "import open3d as o3d\n",
        "\n",
        "def create_lseg_map_batch(img_save_dir, camera_translation, ground_to_camera_height, cs=0.05, gs=1000, depth_sample_rate=100):\n",
        "    mask_version = 1 # 0, 1\n",
        "\n",
        "    crop_size = 480 # 480\n",
        "    base_size = 520 # 520\n",
        "    lang = \"door,chair,ground,ceiling,window,other\"\n",
        "    labels = lang.split(\",\")\n",
        "\n",
        "    # loading models\n",
        "    device = \"cuda:1\" if torch.cuda.is_available() else \"cpu\"\n",
        "    print(device)\n",
        "    clip_version = \"ViT-B/32\"\n",
        "    clip_feat_dim = {'RN50': 1024, 'RN101': 512, 'RN50x4': 640, 'RN50x16': 768,\n",
        "                    'RN50x64': 1024, 'ViT-B/32': 512, 'ViT-B/16': 512, 'ViT-L/14': 768}[clip_version]\n",
        "    print(\"Loading CLIP model...\")\n",
        "    clip_model, preprocess = clip.load(clip_version, device = device)  # clip.available_models()\n",
        "    clip_model.to(device).eval()\n",
        "    # print(\"Clip model -\", clip_model.is_cuda())\n",
        "    # x = torch.randn((5,5)).to(device=device)\n",
        "    # print(\"Tensor device - \", type(x))\n",
        "    # clip_model.eval()\n",
        "    lang_token = clip.tokenize(labels)\n",
        "    lang_token = lang_token.to(device)\n",
        "    with torch.no_grad():\n",
        "        text_feats = clip_model.encode_text(lang_token)\n",
        "        text_feats = text_feats / text_feats.norm(dim=-1, keepdim=True)\n",
        "    text_feats = text_feats.cpu().numpy()\n",
        "    model = LSegEncNet(lang, arch_option=0,\n",
        "                        block_depth=0,\n",
        "                        activation='lrelu',\n",
        "                        crop_size=crop_size)\n",
        "    model_state_dict = model.state_dict()\n",
        "    global data_root\n",
        "    checkpoint_path = os.path.join(data_root, \"lseg/checkpoints/demo_e200.ckpt\")\n",
        "\n",
        "    print(\"Loading lseg checkpoint\")\n",
        "    pretrained_state_dict = torch.load(checkpoint_path, map_location = device)\n",
        "    print(\"Lseg loaded\")\n",
        "    pretrained_state_dict = {k.lstrip('net.'): v for k, v in pretrained_state_dict['state_dict'].items()}\n",
        "    model_state_dict.update(pretrained_state_dict)\n",
        "    model.load_state_dict(pretrained_state_dict)\n",
        "\n",
        "    model.eval()\n",
        "    model = model.cuda()\n",
        "\n",
        "    norm_mean= [0.5, 0.5, 0.5]\n",
        "    norm_std = [0.5, 0.5, 0.5]\n",
        "    padding = [0.0] * 3\n",
        "    transform = transforms.Compose(\n",
        "        [\n",
        "            transforms.ToTensor(),\n",
        "            transforms.Normalize([0.5, 0.5, 0.5], [0.5, 0.5, 0.5]),\n",
        "        ]\n",
        "    )\n",
        "\n",
        "    print(f\"loading scene {img_save_dir}\")\n",
        "    rgb_dir = os.path.join(img_save_dir, \"rgb\")\n",
        "    depth_dir = os.path.join(img_save_dir, \"depth\")\n",
        "    pose_dir = os.path.join(img_save_dir, \"pose\")\n",
        "    # semantic_dir = os.path.join(img_save_dir, \"semantic\")\n",
        "    # obj2cls_path = os.path.join(img_save_dir, \"obj2cls_dict.txt\")\n",
        "\n",
        "    rgb_list = sorted(os.listdir(rgb_dir), key=lambda x: int(\n",
        "        x.split(\"_\")[-1].split(\".\")[0]))\n",
        "    depth_list = sorted(os.listdir(depth_dir), key=lambda x: int(\n",
        "        x.split(\"_\")[-1].split(\".\")[0]))\n",
        "    pose_list = sorted(os.listdir(pose_dir), key=lambda x: int(\n",
        "        x.split(\"_\")[-1].split(\".\")[0]))\n",
        "    # pose_list = sorted(os.listdir(pose_dir), key=lambda x: int(\n",
        "    #     x.split(\"_\")[-1].split(\".\")[0]))\n",
        "    # semantic_list = sorted(os.listdir(semantic_dir), key=lambda x: int(\n",
        "    #     x.split(\"_\")[-1].split(\".\")[0]))\n",
        "\n",
        "    rgb_list = [os.path.join(rgb_dir, x) for x in rgb_list]\n",
        "    depth_list = [os.path.join(depth_dir, x) for x in depth_list]\n",
        "    pose_list = [os.path.join(pose_dir, x) for x in pose_list]\n",
        "    # semantic_list = [os.path.join(semantic_dir, x) for x in semantic_list]\n",
        "\n",
        "\n",
        "    map_save_dir = os.path.join(img_save_dir, \"map\")\n",
        "    os.makedirs(map_save_dir, exist_ok=True)\n",
        "    color_top_down_save_path = os.path.join(map_save_dir, f\"color_top_down_{mask_version}.npy\")\n",
        "    # gt_save_path = os.path.join(map_save_dir, f\"grid_{mask_version}_gt.npy\")\n",
        "    grid_save_path = os.path.join(map_save_dir, f\"grid_lseg_{mask_version}.npy\")\n",
        "    weight_save_path = os.path.join(map_save_dir, f\"weight_lseg_{mask_version}.npy\")\n",
        "    obstacles_save_path = os.path.join(map_save_dir, \"obstacles.npy\")\n",
        "\n",
        "    # obj2cls = load_obj2cls_dict(obj2cls_path)\n",
        "\n",
        "    # initialize a grid with zero position at the center\n",
        "    color_top_down_height = (camera_translation[2] + 1) * np.ones((gs, gs), dtype=np.float32)\n",
        "    color_top_down = np.zeros((gs, gs, 3), dtype=np.uint8)\n",
        "    # gt = np.zeros((gs, gs), dtype=np.int32)\n",
        "    grid = np.zeros((gs, gs, clip_feat_dim), dtype=np.float32)\n",
        "    obstacles = np.ones((gs, gs), dtype=np.uint8)\n",
        "    weight = np.zeros((gs, gs), dtype=float)\n",
        "\n",
        "    # save_map(color_top_down_save_path, color_top_down)\n",
        "    # # save_map(gt_save_path, gt)\n",
        "    # save_map(grid_save_path, grid)\n",
        "    # save_map(weight_save_path, weight)\n",
        "    # save_map(obstacles_save_path, obstacles)\n",
        "\n",
        "    tf_list = []\n",
        "    # data_iter = zip(rgb_list, depth_list, semantic_list, pose_list)\n",
        "    data_iter = zip(rgb_list, depth_list, pose_list)\n",
        "    pbar = tqdm(total=len(rgb_list))\n",
        "    # load all images and depths and poses\n",
        "    # print('here')\n",
        "    count = 0\n",
        "\n",
        "    trans_cam = np.zeros((4,4))\n",
        "    trans_cam[0, 2] = 1\n",
        "    trans_cam[1, 0] = -1\n",
        "    trans_cam[2, 1] = -1\n",
        "\n",
        "    trans_cam[:3,3] = np.array(camera_translation)\n",
        "    trans_cam[3,3] = 1\n",
        "\n",
        "    pc_combined = []\n",
        "    colors = []\n",
        "    feature_cloud = []\n",
        "    \n",
        "    for data_sample in data_iter:\n",
        "        count += 1\n",
        "        # if count % 15 != 0:\n",
        "        #     continue\n",
        "\n",
        "        feature_list = []\n",
        "        pixel_coords = []\n",
        "        # count += 1\n",
        "        # if count % 3 != 0:\n",
        "        #     continue\n",
        "        # rgb_path, depth_path, semantic_path, pose_path = data_sample\n",
        "        rgb_path, depth_path, pose_path = data_sample\n",
        "\n",
        "        \n",
        "        bgr = cv2.imread(rgb_path)\n",
        "        rgb = cv2.cvtColor(bgr, cv2.COLOR_BGR2RGB)\n",
        "        out = rgb.copy()\n",
        "\n",
        "        # read pose\n",
        "        # pos, rot = load_pose(pose_path)  # z backward, y upward, x to the right -> theirs\n",
        "        pos, rot = load_pose(pose_path)  # x front, y left, z upward -> ours\n",
        "\n",
        "        pose = np.eye(4)\n",
        "        pose[:3, :3] = rot\n",
        "        pose[:3, 3] = pos.reshape(-1)\n",
        "\n",
        "        # pose = pose @ trans_cam\n",
        "\n",
        "        tf_list.append(pose)\n",
        "        if len(tf_list) == 1:\n",
        "            init_tf_inv = np.linalg.inv(tf_list[0])\n",
        "\n",
        "        tf = init_tf_inv @ pose @ trans_cam\n",
        "\n",
        "        # read depth\n",
        "        depth = load_depth(depth_path)\n",
        "        # print(f\"depth shape = {depth.shape}\")\n",
        "        # break\n",
        "        # read semantic\n",
        "        # semantic = load_semantic(semantic_path)\n",
        "        # semantic = cvt_obj_id_2_cls_id(semantic, obj2cls)\n",
        "\n",
        "        pix_feats = get_lseg_feat(model, rgb, labels, transform, crop_size, base_size, norm_mean, norm_std)\n",
        "        # print(pix_feats.shape)\n",
        "        # transform all points to the global frame\n",
        "        pc, mask = depth2pc_realsense(depth)\n",
        "        \n",
        "        shuffle_mask = np.arange(pc.shape[1]) \n",
        "        np.random.shuffle(shuffle_mask)\n",
        "        shuffle_mask = shuffle_mask[::depth_sample_rate]\n",
        "        mask = mask[shuffle_mask]\n",
        "        pc = pc[:, shuffle_mask]\n",
        "        pc = pc[:, mask]\n",
        "\n",
        "        o3d_pc = o3d.geometry.PointCloud()\n",
        "        o3d_pc.points = o3d.utility.Vector3dVector(pc.T)\n",
        "        o3d_pc, _ = o3d_pc.remove_statistical_outlier(nb_neighbors = 15, std_ratio = 1.0)\n",
        "        pc = (np.asarray(o3d_pc.points)).T\n",
        "\n",
        "        pc_global = transform_pc(pc, tf)\n",
        "\n",
        "        original_dims = (rgb.shape[1], rgb.shape[0])\n",
        "        rgb_cam_mat = get_real_cam_mat(original_dims, original_dims)\n",
        "        # print(rgb_cam_mat)\n",
        "        feat_cam_mat = get_real_cam_mat(original_dims, (pix_feats.shape[3], pix_feats.shape[2]))\n",
        "        # print(feat_cam_mat)\n",
        "\n",
        "        # color_local = get_color(rgb)\n",
        "        # color_local = color_local[:, shuffle_mask]\n",
        "        # color_local = color_local[:, mask]\n",
        "\n",
        "        if len(pc_combined) == 0:\n",
        "            pc_combined = pc_global\n",
        "            # colors = color_local\n",
        "        else:\n",
        "            pc_combined = np.hstack((pc_combined, pc_global))\n",
        "            # print(color_local.shape, colors.shape)\n",
        "            # colors = np.hstack((colors, color_local))\n",
        "            \n",
        "        # print(f\"pc_local shape {pc.shape}\")\n",
        "        # project all point cloud onto the ground\n",
        "        print(np.max(pc[1]))\n",
        "        for i, (p, p_local) in enumerate(zip(pc_global.T, pc.T)):\n",
        "            x, y = pos2grid_id(gs, cs, p[0], p[1])   # changed p[2] -> p[1], i.e, z -> y\n",
        "\n",
        "            rgb_px, rgb_py, rgb_pz = project_point(rgb_cam_mat, p_local)\n",
        "            rgb_v = rgb[rgb_py, rgb_px, :]\n",
        "            colors.append(rgb_v)\n",
        "\n",
        "            # ignore points projected to outside of the map and points that are 0.5 higher than the camera (could be from the ceiling)\n",
        "            if x >= obstacles.shape[0] or y >= obstacles.shape[1] or \\\n",
        "                x < 0 or y < 0 or p_local[1] < -1.0:\n",
        "                continue\n",
        "\n",
        "            # semantic_v = semantic[rgb_py, rgb_px]\n",
        "            # if semantic_v == 40:\n",
        "            #     semantic_v = -1\n",
        "            \n",
        "            # when the projected location is already assigned a color value before, overwrite if the current point has larger height\n",
        "            if p_local[1] < color_top_down_height[y, x]:\n",
        "                color_top_down[y, x] = rgb_v\n",
        "                color_top_down_height[y, x] = p_local[1]\n",
        "                # gt[y, x] = semantic_v\n",
        "\n",
        "            # average the visual embeddings if multiple points are projected to the same grid cell\n",
        "            px, py, pz = project_point(feat_cam_mat, p_local)\n",
        "            if not (px < 0 or py < 0 or px >= pix_feats.shape[3] or py >= pix_feats.shape[2]):\n",
        "                feat = pix_feats[0, :, py, px]\n",
        "                # print(feat.shape)\n",
        "                # feature_cloud.append(feat)\n",
        "                grid[y, x] = (grid[y, x] * weight[y, x] + feat) / (weight[y, x] + 1)\n",
        "                # print(grid[y, x].shape)\n",
        "                weight[y, x] += 1\n",
        "                \n",
        "                # if count == 1:\n",
        "                # pixel_coords.append([rgb_py, rgb_px])\n",
        "                # feature_list.append(feat)\n",
        "                # out = cv2.circle(out, (rgb_px, rgb_py), radius = 2, color = (255, 0, 0), thickness = 1)\n",
        "            \n",
        "            # build an obstacle map ignoring points on the floor (0 means occupied, 1 means free)\n",
        "            if p_local[1] > ground_to_camera_height:\n",
        "                continue\n",
        "            obstacles[y, x] = 0\n",
        "\n",
        "        # plt.imshow(out)\n",
        "        # plt.show()\n",
        "        pbar.update(1)\n",
        "        np.save(os.path.join(map_save_dir, \"pointcloud.npy\"), pc_combined)\n",
        "        np.save(os.path.join(map_save_dir, \"colors.npy\"), np.array(colors))\n",
        "        # count += 1\n",
        "        # break\n",
        "        if count == 75:\n",
        "            break\n",
        "        # print(len(pixel_coords))\n",
        "        # print(feature_list.shape)\n",
        "\n",
        "    colors = np.array(colors)\n",
        "    # pixel_coords = np.array(pixel_coords)\n",
        "    # feature_list = np.array(feature_list)   \n",
        "    save_map(color_top_down_save_path, color_top_down)\n",
        "    # save_map(gt_save_path, gt)\n",
        "    save_map(grid_save_path, grid)\n",
        "    save_map(weight_save_path, weight)\n",
        "    save_map(obstacles_save_path, obstacles)\n",
        "    # np.save(os.path.join(map_save_dir, \"pixel_coords.npy\"), pixel_coords)\n",
        "    # np.save(os.path.join(map_save_dir, \"features_list.npy\"), feature_list)\n",
        "    # print(pixel_coords.shape)\n",
        "    # print(feature_list.shape)\n",
        "    np.save(os.path.join(map_save_dir, \"pointcloud.npy\"), pc_combined)\n",
        "    np.save(os.path.join(map_save_dir, \"colors.npy\"), colors)\n",
        "\n",
        "    torch.cuda.empty_cache()\n",
        "\n",
        "\n",
        "def get_lseg_feat(model: LSegEncNet, image: np.array, labels, transform, crop_size=480, \\\n",
        "                 base_size=520, norm_mean=[0.5, 0.5, 0.5], norm_std=[0.5, 0.5, 0.5]):\n",
        "    vis_image = image.copy()\n",
        "    image = transform(image).unsqueeze(0).cuda()\n",
        "    # img = image[0].permute(1,2,0)\n",
        "    # img = img * 0.5 + 0.5\n",
        "    \n",
        "    batch, _, h, w = image.size()\n",
        "    stride_rate = 2.0/3.0\n",
        "    stride = int(crop_size * stride_rate)\n",
        "\n",
        "    long_size = base_size\n",
        "    if h > w:\n",
        "        height = long_size\n",
        "        width = int(1.0 * w * long_size / h + 0.5)\n",
        "        short_size = width\n",
        "    else:\n",
        "        width = long_size\n",
        "        height = int(1.0 * h * long_size / w + 0.5)\n",
        "        short_size = height\n",
        "\n",
        "\n",
        "    cur_img = resize_image(image, height, width, **{'mode': 'bilinear', 'align_corners': True})\n",
        "\n",
        "    if long_size <= crop_size:\n",
        "        pad_img = pad_image(cur_img, norm_mean,\n",
        "                            norm_std, crop_size)\n",
        "        # print(pad_img.shape)\n",
        "        with torch.no_grad():\n",
        "            outputs, logits = model(pad_img, labels)\n",
        "\n",
        "        # print(f\"1 {outputs.shape}\")\n",
        "        outputs = crop_image(outputs, 0, height, 0, width)\n",
        "    else:\n",
        "        if short_size < crop_size:\n",
        "            # pad if needed\n",
        "            pad_img = pad_image(cur_img, norm_mean,\n",
        "                                norm_std, crop_size)\n",
        "        else:\n",
        "            pad_img = cur_img\n",
        "\n",
        "        _,_,ph,pw = pad_img.shape #.size()\n",
        "        assert(ph >= height and pw >= width)\n",
        "        h_grids = int(math.ceil(1.0 * (ph-crop_size)/stride)) + 1\n",
        "        w_grids = int(math.ceil(1.0 * (pw-crop_size)/stride)) + 1\n",
        "        with torch.cuda.device_of(image):\n",
        "            with torch.no_grad():\n",
        "                outputs = image.new().resize_(batch, model.out_c,ph,pw).zero_().cuda()\n",
        "                logits_outputs = image.new().resize_(batch, len(labels),ph,pw).zero_().cuda()\n",
        "            count_norm = image.new().resize_(batch,1,ph,pw).zero_().cuda()\n",
        "        # grid evaluation\n",
        "        for idh in range(h_grids):\n",
        "            for idw in range(w_grids):\n",
        "                h0 = idh * stride\n",
        "                w0 = idw * stride\n",
        "                h1 = min(h0 + crop_size, ph)\n",
        "                w1 = min(w0 + crop_size, pw)\n",
        "                crop_img = crop_image(pad_img, h0, h1, w0, w1)\n",
        "                # pad if needed\n",
        "                pad_crop_img = pad_image(crop_img, norm_mean,\n",
        "                                            norm_std, crop_size)\n",
        "\n",
        "                # print(f\"3 {pad_crop_img.shape}\")\n",
        "                with torch.no_grad():\n",
        "                    output, logits = model(pad_crop_img, labels)\n",
        "\n",
        "                # print(f\"2 {outputs.shape}\")\n",
        "                cropped = crop_image(output, 0, h1-h0, 0, w1-w0)\n",
        "                cropped_logits = crop_image(logits, 0, h1-h0, 0, w1-w0)\n",
        "                outputs[:,:,h0:h1,w0:w1] += cropped\n",
        "                logits_outputs[:,:,h0:h1,w0:w1] += cropped_logits\n",
        "                count_norm[:,:,h0:h1,w0:w1] += 1\n",
        "        assert((count_norm==0).sum()==0)\n",
        "        outputs = outputs / count_norm\n",
        "        logits_outputs = logits_outputs / count_norm\n",
        "        outputs = outputs[:,:,:height,:width]\n",
        "        logits_outputs = logits_outputs[:,:,:height,:width]\n",
        "    outputs = outputs.cpu()\n",
        "    outputs = outputs.numpy() # B, D, H, W\n",
        "    predicts = [torch.max(logit, 0)[1].cpu().numpy() for logit in logits_outputs]\n",
        "    pred = predicts[0]\n",
        "    # print(pad_img.shape)\n",
        "    # print(outputs.shape)\n",
        "    return outputs"
      ]
    },
    {
      "cell_type": "code",
      "execution_count": 135,
      "metadata": {
        "colab": {
          "base_uri": "https://localhost:8080/"
        },
        "id": "P1_MS1mxay6S",
        "outputId": "b8e38187-6c92-4301-e07f-f06a1738b78f"
      },
      "outputs": [
        {
          "name": "stdout",
          "output_type": "stream",
          "text": [
            "cuda:1\n",
            "Loading CLIP model...\n",
            "Loading lseg checkpoint\n",
            "Lseg loaded\n",
            "loading scene /scratch/laksh.nanwani/vlmaps_data/data_p3dx_vlmaps\n"
          ]
        },
        {
          "name": "stderr",
          "output_type": "stream",
          "text": []
        },
        {
          "name": "stdout",
          "output_type": "stream",
          "text": [
            "/scratch/laksh.nanwani/vlmaps_data/data_p3dx_vlmaps/map/color_top_down_1.npy is saved.\n",
            "/scratch/laksh.nanwani/vlmaps_data/data_p3dx_vlmaps/map/grid_lseg_1.npy is saved.\n",
            "/scratch/laksh.nanwani/vlmaps_data/data_p3dx_vlmaps/map/weight_lseg_1.npy is saved.\n",
            "/scratch/laksh.nanwani/vlmaps_data/data_p3dx_vlmaps/map/obstacles.npy is saved.\n"
          ]
        },
        {
          "name": "stderr",
          "output_type": "stream",
          "text": [
            " 14%|█▍        | 75/531 [02:17<13:54,  1.83s/it]\n"
          ]
        }
      ],
      "source": [
        "# # wheelchair\n",
        "create_lseg_map_batch(data_dir, camera_translation=camera_translation, ground_to_camera_height = camera_translation[2], cs=cs, gs=gs, depth_sample_rate=depth_sample_rate) \n",
        "\n",
        "# p3dx\n",
        "# create_lseg_map_batch(data_dir, camera_translation=camera_translation, ground_to_camera_height = 0.8, cs=cs, gs=gs, depth_sample_rate=depth_sample_rate)"
      ]
    },
    {
      "cell_type": "code",
      "execution_count": 136,
      "metadata": {},
      "outputs": [],
      "source": [
        "# map_save_dir = os.path.join(data_dir, \"map\")\n",
        "# w = np.load(os.path.join(map_save_dir, \"pixel_coords.npy\"))\n",
        "# f = np.load(os.path.join(map_save_dir, \"features_list.npy\"))\n",
        "# print(w)"
      ]
    },
    {
      "cell_type": "code",
      "execution_count": 137,
      "metadata": {},
      "outputs": [],
      "source": [
        "# import matplotlib.pyplot as plt\n",
        "# rgb = cv2.cvtColor(cv2.imread(os.path.join(data_dir, \"rgb\", \"img_0.png\")), cv2.COLOR_BGR2RGB)\n",
        "\n",
        "# for i in w:\n",
        "#     # print(i)\n",
        "#     rgb = cv2.circle(rgb, (i[1], i[0]), radius = 2, color = (255, 0, 0), thickness = 1)\n",
        "    \n",
        "\n",
        "# plt.imshow(rgb)\n",
        "# plt.show()"
      ]
    },
    {
      "cell_type": "code",
      "execution_count": 138,
      "metadata": {},
      "outputs": [],
      "source": [
        "# # Table, x,y - (131,353), (258,353), (131, 490), (258, 490)\n",
        "# print(w[:, 1])\n",
        "# print(w.shape)\n",
        "# print(f.shape)\n",
        "\n",
        "# condition = np.where(((w[:,1] > 131) & (w[:,1] < 258) & (w[:,0] > 353) & (w[:,0] < 490)))\n",
        "# table_embedding = np.average(f[condition], axis = 0)\n",
        "# # np.save(os.path.join(map_save_dir, \"table.npy\"), table_embedding)"
      ]
    },
    {
      "cell_type": "markdown",
      "metadata": {
        "id": "4nkcANgnay6S"
      },
      "source": [
        "# Landmark Indexing"
      ]
    },
    {
      "cell_type": "markdown",
      "metadata": {
        "id": "bcRl3I2Lay6S"
      },
      "source": [
        "## Load packages"
      ]
    },
    {
      "cell_type": "code",
      "execution_count": 139,
      "metadata": {
        "id": "KqEDeElTay6S"
      },
      "outputs": [],
      "source": [
        "%matplotlib inline\n",
        "import os\n",
        "import numpy as np\n",
        "import matplotlib.pyplot as plt\n",
        "from PIL import Image\n",
        "from utils.clip_mapping_utils import load_map, get_new_pallete, get_new_mask_pallete\n",
        "from utils.clip_utils import get_text_feats\n",
        "from utils.mp3dcat import mp3dcat\n",
        "import clip"
      ]
    },
    {
      "cell_type": "markdown",
      "metadata": {
        "id": "s1Q3ESdEay6T"
      },
      "source": [
        "## Setup Load Paths"
      ]
    },
    {
      "cell_type": "markdown",
      "metadata": {
        "id": "MZXfnuXw1BH6"
      },
      "source": [
        "Set `use_self_built_map` to False to use the map we provided, and set it to True if you want to try the map you built in the `VLMap Creation` section."
      ]
    },
    {
      "cell_type": "code",
      "execution_count": 140,
      "metadata": {
        "id": "yvz2MJLAay6T"
      },
      "outputs": [],
      "source": [
        "use_self_built_map = True # @param {type: \"boolean\"} \n",
        "map_save_dir = os.path.join(data_dir, \"map_correct\")\n",
        "if use_self_built_map:\n",
        "    map_save_dir = os.path.join(data_dir, \"map\")\n",
        "# os.makedirs(map_save_dir, exist_ok=True)\n",
        "\n",
        "color_top_down_save_path = os.path.join(map_save_dir, f\"color_top_down_1.npy\")\n",
        "grid_save_path = os.path.join(map_save_dir, f\"grid_lseg_1.npy\")\n",
        "obstacles_save_path = os.path.join(map_save_dir, \"obstacles.npy\")"
      ]
    },
    {
      "cell_type": "markdown",
      "metadata": {
        "id": "K0suu5g2ay6T"
      },
      "source": [
        "## Show Obstacle Map"
      ]
    },
    {
      "cell_type": "code",
      "execution_count": 141,
      "metadata": {
        "colab": {
          "base_uri": "https://localhost:8080/",
          "height": 637
        },
        "id": "yDDclNLMay6T",
        "outputId": "5da42f2a-fc49-4684-c559-8c83b5460c54"
      },
      "outputs": [
        {
          "name": "stdout",
          "output_type": "stream",
          "text": [
            "[0 1]\n"
          ]
        },
        {
          "data": {
            "image/png": "[encoded data removed]",
            "text/plain": [
              "<Figure size 960x720 with 1 Axes>"
            ]
          },
          "metadata": {},
          "output_type": "display_data"
        }
      ],
      "source": [
        "obstacles = load_map(obstacles_save_path)\n",
        "x_indices, y_indices = np.where(obstacles == 0)\n",
        "\n",
        "xmin = np.min(x_indices)\n",
        "xmax = np.max(x_indices)\n",
        "ymin = np.min(y_indices)\n",
        "ymax = np.max(y_indices)\n",
        "\n",
        "print(np.unique(obstacles))\n",
        "obstacles_pil = Image.fromarray(obstacles[xmin:xmax+1, ymin:ymax+1])\n",
        "plt.figure(figsize=(8, 6), dpi=120)\n",
        "plt.imshow(obstacles_pil, cmap='gray')\n",
        "plt.savefig(os.path.join(map_save_dir, \"obstacles.png\"))\n",
        "plt.show()"
      ]
    },
    {
      "cell_type": "markdown",
      "metadata": {
        "id": "0MgEg1fxnBSb"
      },
      "source": [
        "you can see that the obstacles are black and the free space is white. You can also observe noisy black points lying on the ground. These points are caused by the slope or different floor heights in the scene."
      ]
    },
    {
      "cell_type": "markdown",
      "metadata": {
        "id": "rQuaw_doay6T"
      },
      "source": [
        "## Show Top-Down Color Map"
      ]
    },
    {
      "cell_type": "code",
      "execution_count": 142,
      "metadata": {
        "colab": {
          "base_uri": "https://localhost:8080/",
          "height": 620
        },
        "id": "YFXucWKlay6T",
        "outputId": "738e8a75-39d8-461b-9efd-bb27ee1fe981"
      },
      "outputs": [
        {
          "data": {
            "image/png": "[encoded data removed]",
            "text/plain": [
              "<Figure size 1200x900 with 1 Axes>"
            ]
          },
          "metadata": {},
          "output_type": "display_data"
        }
      ],
      "source": [
        "color_top_down = load_map(color_top_down_save_path)\n",
        "color_top_down = color_top_down[xmin:xmax+1, ymin:ymax+1]\n",
        "color_top_down_pil = Image.fromarray(color_top_down)\n",
        "plt.figure(figsize=(8,6), dpi=150)\n",
        "plt.imshow(color_top_down_pil)\n",
        "plt.savefig(os.path.join(map_save_dir, \"top_down_color.png\"))\n",
        "plt.show()\n"
      ]
    },
    {
      "cell_type": "markdown",
      "metadata": {
        "id": "tUi-aoA_nwDA"
      },
      "source": [
        "the color map is created by projecting the color-augmented point cloud to the floor."
      ]
    },
    {
      "cell_type": "markdown",
      "metadata": {
        "id": "g8_3QfPMay6U"
      },
      "source": [
        "## Show Landmark Indexing Results"
      ]
    },
    {
      "cell_type": "code",
      "execution_count": 143,
      "metadata": {
        "id": "BmVL_7eTay6U"
      },
      "outputs": [],
      "source": [
        "%%capture\n",
        "device = \"cuda\" if torch.cuda.is_available() else \"cpu\"\n",
        "clip_version = \"ViT-B/32\"\n",
        "clip_feat_dim = {'RN50': 1024, 'RN101': 512, 'RN50x4': 640, 'RN50x16': 768,\n",
        "                'RN50x64': 1024, 'ViT-B/32': 512, 'ViT-B/16': 512, 'ViT-L/14': 768}[clip_version]\n",
        "clip_model, preprocess = clip.load(clip_version)  # clip.available_models()\n",
        "clip_model.to(device).eval()"
      ]
    },
    {
      "cell_type": "code",
      "execution_count": 144,
      "metadata": {
        "id": "JTW4-_RSay6U"
      },
      "outputs": [],
      "source": [
        "grid = load_map(grid_save_path)\n",
        "grid = grid[xmin:xmax+1, ymin:ymax+1]"
      ]
    },
    {
      "cell_type": "markdown",
      "metadata": {
        "id": "S89JL9NzoHVW"
      },
      "source": [
        "we use the text form of all semantic categories provided by the Matterport3D dataset as prompts to the VLMap and localize all categories in the map. We filter out \"floor\" category."
      ]
    },
    {
      "cell_type": "code",
      "execution_count": 145,
      "metadata": {
        "colab": {
          "base_uri": "https://localhost:8080/",
          "height": 807
        },
        "id": "Kia45L6Lay6U",
        "outputId": "8ecb81f9-9499-4436-c084-58db9eccd11a"
      },
      "outputs": [
        {
          "name": "stdout",
          "output_type": "stream",
          "text": [
            "(29, 134)\n"
          ]
        },
        {
          "data": {
            "image/png": "[encoded data removed]",
            "text/plain": [
              "<Figure size 1200x720 with 1 Axes>"
            ]
          },
          "metadata": {},
          "output_type": "display_data"
        }
      ],
      "source": [
        "no_map_mask = obstacles[xmin:xmax+1, ymin:ymax+1] > 0\n",
        "obstacles_rgb = np.repeat(obstacles[xmin:xmax+1, ymin:ymax+1, None], 3, axis=2)\n",
        "print(no_map_mask.shape)\n",
        "\n",
        "lang = mp3dcat \n",
        "text_feats = get_text_feats(lang, clip_model, clip_feat_dim)\n",
        "\n",
        "map_feats = grid.reshape((-1, grid.shape[-1]))\n",
        "scores_list = map_feats @ text_feats.T\n",
        "\n",
        "predicts = np.argmax(scores_list, axis=1)\n",
        "predicts = predicts.reshape((xmax - xmin + 1, ymax - ymin + 1))\n",
        "floor_mask = predicts == 2\n",
        "\n",
        "new_pallete = get_new_pallete(len(lang))\n",
        "mask, patches = get_new_mask_pallete(predicts, new_pallete, out_label_flag=True, labels=lang)\n",
        "seg = mask.convert(\"RGBA\")\n",
        "seg = np.array(seg)\n",
        "seg[no_map_mask] = [225, 225, 225, 255]\n",
        "seg[floor_mask] = [225, 225, 225, 255]\n",
        "seg = Image.fromarray(seg)\n",
        "plt.figure(figsize=(10, 6), dpi=120)\n",
        "plt.legend(handles=patches, loc='upper left', bbox_to_anchor=(1., 1), prop={'size': 10})\n",
        "plt.axis('off')\n",
        "plt.title(\"VLMaps\")\n",
        "plt.imshow(seg)\n",
        "plt.savefig(os.path.join(map_save_dir, \"indexing1.png\"))\n",
        "plt.show()"
      ]
    },
    {
      "cell_type": "markdown",
      "metadata": {
        "id": "bUOmbgMCay6V"
      },
      "source": [
        "## Open-Vocabulary Landmark Indexing"
      ]
    },
    {
      "cell_type": "markdown",
      "metadata": {
        "id": "3Z7u7GAfovtN"
      },
      "source": [
        "In addition to using the fixed set of categories, we can also use customized text prompts to the map and index their corresponding locations. You could play around with the `lang` variable below by providing your own prompt. "
      ]
    },
    {
      "cell_type": "code",
      "execution_count": 146,
      "metadata": {
        "colab": {
          "base_uri": "https://localhost:8080/",
          "height": 609
        },
        "id": "_zd5xBbAay6V",
        "outputId": "b49d7160-5d4d-4578-edd9-4555fbdf06f0"
      },
      "outputs": [
        {
          "data": {
            "image/png": "[encoded data removed]",
            "text/plain": [
              "<Figure size 1200x720 with 1 Axes>"
            ]
          },
          "metadata": {},
          "output_type": "display_data"
        }
      ],
      "source": [
        "# @markdown Input the prompt as a string of object names separated by \",\"\n",
        "lang = \"big flat counter, sofa, floor, chair, wash basin, other\" # @param {type: \"string\"}\n",
        "lang = lang.split(\",\")\n",
        "text_feats = get_text_feats(lang, clip_model, clip_feat_dim)\n",
        "\n",
        "map_feats = grid.reshape((-1, grid.shape[-1]))\n",
        "scores_list = map_feats @ text_feats.T\n",
        "\n",
        "predicts = np.argmax(scores_list, axis=1)\n",
        "predicts = predicts.reshape((xmax - xmin + 1, ymax - ymin + 1))\n",
        "floor_mask = predicts == 2\n",
        "\n",
        "new_pallete = get_new_pallete(len(lang))\n",
        "mask, patches = get_new_mask_pallete(predicts, new_pallete, out_label_flag=True, labels=lang)\n",
        "seg = mask.convert(\"RGBA\")\n",
        "seg = np.array(seg)\n",
        "seg[no_map_mask] = [225, 225, 225, 255]\n",
        "seg[floor_mask] = [225, 225, 225, 255]\n",
        "seg = Image.fromarray(seg)\n",
        "plt.figure(figsize=(10, 6), dpi=120)\n",
        "plt.legend(handles=patches, loc='upper left', bbox_to_anchor=(1., 1), prop={'size': 10})\n",
        "plt.axis('off')\n",
        "plt.title(\"VLMaps\")\n",
        "plt.imshow(seg)\n",
        "plt.savefig(os.path.join(map_save_dir, \"indexing2.png\"))\n",
        "plt.show()"
      ]
    },
    {
      "cell_type": "code",
      "execution_count": 147,
      "metadata": {},
      "outputs": [
        {
          "data": {
            "image/png": "[encoded data removed]",
            "text/plain": [
              "<Figure size 1200x720 with 1 Axes>"
            ]
          },
          "metadata": {},
          "output_type": "display_data"
        }
      ],
      "source": [
        "# @markdown Input the prompt as a string of object names separated by \",\"\n",
        "lang = \"ceiling, table, chair, floor, window, door, other\" # @param {type: \"string\"}\n",
        "lang = lang.split(\",\")\n",
        "text_feats = get_text_feats(lang, clip_model, clip_feat_dim)\n",
        "\n",
        "map_feats = grid.reshape((-1, grid.shape[-1]))\n",
        "scores_list = map_feats @ text_feats.T\n",
        "\n",
        "predicts = np.argmax(scores_list, axis=1)\n",
        "predicts = predicts.reshape((xmax - xmin + 1, ymax - ymin + 1))\n",
        "floor_mask = predicts == 3\n",
        "\n",
        "new_pallete = get_new_pallete(len(lang))\n",
        "mask, patches = get_new_mask_pallete(predicts, new_pallete, out_label_flag=True, labels=lang)\n",
        "seg = mask.convert(\"RGBA\")\n",
        "seg = np.array(seg)\n",
        "seg[no_map_mask] = [225, 225, 225, 255]\n",
        "seg[floor_mask] = [225, 225, 225, 255]\n",
        "seg = Image.fromarray(seg)\n",
        "plt.figure(figsize=(10, 6), dpi=120)\n",
        "plt.legend(handles=patches, loc='upper left', bbox_to_anchor=(1., 1), prop={'size': 10})\n",
        "plt.axis('off')\n",
        "plt.title(\"VLMaps\")\n",
        "plt.imshow(seg)\n",
        "plt.savefig(os.path.join(map_save_dir, \"indexing3.png\"))\n",
        "plt.show()"
      ]
    },
    {
      "cell_type": "code",
      "execution_count": 148,
      "metadata": {},
      "outputs": [
        {
          "data": {
            "image/png": "[encoded data removed]",
            "text/plain": [
              "<Figure size 1200x720 with 1 Axes>"
            ]
          },
          "metadata": {},
          "output_type": "display_data"
        }
      ],
      "source": [
        "# @markdown Input the prompt as a string of object names separated by \",\"\n",
        "lang = \"table, chair, window, door, wall\" # @param {type: \"string\"}\n",
        "lang = lang.split(\",\")\n",
        "text_feats = get_text_feats(lang, clip_model, clip_feat_dim)\n",
        "\n",
        "map_feats = grid.reshape((-1, grid.shape[-1]))\n",
        "# print(map_feats)\n",
        "scores_list = map_feats @ text_feats.T\n",
        "# print(scores_list)\n",
        "\n",
        "predicts = np.argmax(scores_list, axis=1)\n",
        "predicts = predicts.reshape((xmax - xmin + 1, ymax - ymin + 1))\n",
        "# floor_mask = predicts == 4\n",
        "\n",
        "new_pallete = get_new_pallete(len(lang))\n",
        "mask, patches = get_new_mask_pallete(predicts, new_pallete, out_label_flag=True, labels=lang)\n",
        "seg = mask.convert(\"RGBA\")\n",
        "seg = np.array(seg)\n",
        "seg[no_map_mask] = [225, 225, 225, 255]\n",
        "# seg[floor_mask] = [225, 225, 225, 255]\n",
        "seg = Image.fromarray(seg)\n",
        "plt.figure(figsize=(10, 6), dpi=120)\n",
        "plt.legend(handles=patches, loc='upper left', bbox_to_anchor=(1., 1), prop={'size': 10})\n",
        "plt.axis('off')\n",
        "plt.title(\"VLMaps\")\n",
        "plt.imshow(seg)\n",
        "plt.savefig(os.path.join(map_save_dir, \"indexing4.png\"))\n",
        "plt.show()"
      ]
    },
    {
      "cell_type": "code",
      "execution_count": 149,
      "metadata": {},
      "outputs": [],
      "source": [
        "def cosine_similarity(map_feats, embedding):\n",
        "    norm_prod = np.linalg.norm(map_feats, axis=1) * np.linalg.norm(embedding)\n",
        "    dot_prod = np.dot(map_feats, embedding)\n",
        "    cos_sim = np.divide(dot_prod, norm_prod, out = np.zeros_like(dot_prod) - 2, where= norm_prod!=0)\n",
        "    return cos_sim"
      ]
    },
    {
      "cell_type": "code",
      "execution_count": 150,
      "metadata": {},
      "outputs": [],
      "source": [
        "feature_dir = os.path.join(data_root, \"object_embeddings\")\n",
        "table_embedding = np.load(os.path.join(feature_dir, \"table.npy\"))\n",
        "chair_embedding = np.load(os.path.join(feature_dir, \"chair.npy\"))\n",
        "floor_embedding = np.load(os.path.join(feature_dir, \"floor.npy\"))\n",
        "door_embedding = np.load(os.path.join(feature_dir, \"door.npy\"))"
      ]
    },
    {
      "cell_type": "code",
      "execution_count": 151,
      "metadata": {},
      "outputs": [
        {
          "name": "stdout",
          "output_type": "stream",
          "text": [
            "(3886, 512)\n"
          ]
        },
        {
          "data": {
            "image/png": "[encoded data removed]",
            "text/plain": [
              "<Figure size 1200x720 with 1 Axes>"
            ]
          },
          "metadata": {},
          "output_type": "display_data"
        }
      ],
      "source": [
        "# @markdown Input the prompt as a string of object names separated by \",\"\n",
        "lang = \"other, table\" # @param {type: \"string\"}\n",
        "lang = lang.split(\",\")\n",
        "# text_feats = get_text_feats(lang, clip_model, clip_feat_dim)\n",
        "\n",
        "map_feats = grid.reshape((-1, grid.shape[-1]))\n",
        "print(map_feats.shape)\n",
        "# table_emb_vec = table_embedding.reshape((-1,1))\n",
        "# print(table_emb_vec.shape)\n",
        "table_points = cosine_similarity(map_feats, table_embedding)\n",
        "# map_feats[n == -2].shape\n",
        "# np.min(n[n!=-2])\n",
        "# scores_list = map_feats @ text_feats.T\n",
        "# print(scores_list)\n",
        "\n",
        "predicts = table_points > 0.92\n",
        "predicts = predicts.reshape((xmax - xmin + 1, ymax - ymin + 1))\n",
        "# # floor_mask = predicts == 4table_embeddings\n",
        "\n",
        "# new_pallete = get_new_pallete(len(lang))\n",
        "mask, patches = get_new_mask_pallete(predicts, new_pallete, out_label_flag=True, labels=lang)\n",
        "seg = mask.convert(\"RGBA\")\n",
        "seg = np.array(seg)\n",
        "seg[no_map_mask] = [225, 225, 225, 255]\n",
        "# seg[floor_mask] = [225, 225, 225, 255]\n",
        "seg = Image.fromarray(seg)\n",
        "plt.figure(figsize=(10, 6), dpi=120)\n",
        "plt.legend(handles=patches, loc='upper left', bbox_to_anchor=(1., 1), prop={'size': 10})\n",
        "plt.axis('off')\n",
        "plt.title(\"VLMaps\")\n",
        "plt.imshow(seg)\n",
        "# plt.savefig(os.path.join(map_save_dir, \"indexing4.png\"))\n",
        "plt.show()"
      ]
    },
    {
      "cell_type": "code",
      "execution_count": 152,
      "metadata": {},
      "outputs": [
        {
          "name": "stdout",
          "output_type": "stream",
          "text": [
            "(3886, 512)\n"
          ]
        },
        {
          "data": {
            "image/png": "[encoded data removed]",
            "text/plain": [
              "<Figure size 1200x720 with 1 Axes>"
            ]
          },
          "metadata": {},
          "output_type": "display_data"
        }
      ],
      "source": [
        "# @markdown Input the prhttps://github.com/isl-org/Open3D.gitompt as a string of object names separated by \",\"\n",
        "lang = \"table, floor, door, chair\" # @param {type: \"string\"}\n",
        "lang = lang.split(\",\")\n",
        "# text_feats = get_text_feats(lang, clip_model, clip_feat_dim)\n",
        "\n",
        "map_feats = grid.reshape((-1, grid.shape[-1]))\n",
        "print(map_feats.shape)\n",
        "# table_emb_vec = table_embedding.reshape((-1,1))\n",
        "# print(table_emb_vec.shape)\n",
        "# table_points = cosine_similarity(map_feats, table_embedding)\n",
        "# map_feats[n == -2].shape\n",
        "# np.min(n[n!=-2])\n",
        "text_feats = np.array([table_embedding, floor_embedding, door_embedding, chair_embedding])\n",
        "scores_list = map_feats @ text_feats.T\n",
        "# print(scores_list)\n",
        "\n",
        "# predicts = table_points > 0.92\n",
        "predicts = np.argmax(scores_list, axis=1)\n",
        "predicts = predicts.reshape((xmax - xmin + 1, ymax - ymin + 1))\n",
        "floor_mask = predicts == 1\n",
        "\n",
        "# new_pallete = get_new_pallete(len(lang))\n",
        "mask, patches = get_new_mask_pallete(predicts, new_pallete, out_label_flag=True, labels=lang)\n",
        "seg = mask.convert(\"RGBA\")\n",
        "seg = np.array(seg)\n",
        "seg[no_map_mask] = [225, 225, 225, 255]\n",
        "seg[floor_mask] = [225, 225, 225, 255]\n",
        "seg = Image.fromarray(seg)\n",
        "plt.figure(figsize=(10, 6), dpi=120)\n",
        "plt.legend(handles=patches, loc='upper left', bbox_to_anchor=(1., 1), prop={'size': 10})\n",
        "plt.axis('off')\n",
        "plt.title(\"VLMaps\")\n",
        "plt.imshow(seg)\n",
        "plt.savefig(os.path.join(map_save_dir, \"indexing_ours.png\"))\n",
        "plt.show()"
      ]
    },
    {
      "cell_type": "code",
      "execution_count": 153,
      "metadata": {},
      "outputs": [],
      "source": [
        "# (no_map_mask == False).shape"
      ]
    },
    {
      "cell_type": "code",
      "execution_count": 154,
      "metadata": {},
      "outputs": [],
      "source": [
        "# np.dot(np.arange(4).reshape((2,2)), np.arange(2))"
      ]
    },
    {
      "cell_type": "markdown",
      "metadata": {
        "id": "xbmX2wfnyANs"
      },
      "source": [
        "# Citation\n",
        "If you find this code useful to you, please cite our paper. You can find more results on the website of our paper [here](https://vlmaps.github.io/).\n",
        "```\n",
        "@article{huang22vlmaps,\n",
        "  title     = {Visual Language Maps for Robot Navigation},\n",
        "  author    = {Chenguang Huang and Oier Mees and Andy Zeng and Wolfram Burgard},\n",
        "  journal   = {arXiv preprint arXiv:2210.05714},\n",
        "  year      = {2022},\n",
        "}\n",
        "```"
      ]
    },
    {
      "cell_type": "markdown",
      "metadata": {},
      "source": []
    }
  ],
  "metadata": {
    "accelerator": "GPU",
    "colab": {
      "collapsed_sections": [],
      "provenance": []
    },
    "kernelspec": {
      "display_name": "Python 3",
      "language": "python",
      "name": "python3"
    },
    "language_info": {
      "codemirror_mode": {
        "name": "ipython",
        "version": 3
      },
      "file_extension": ".py",
      "mimetype": "text/x-python",
      "name": "python",
      "nbconvert_exporter": "python",
      "pygments_lexer": "ipython3",
      "version": "3.8.15"
    },
    "vscode": {
      "interpreter": {
        "hash": "4411e80da8008d6a0c6bf425013b61b6956630bc6111cfb4a65d9f725bf5dc68"
      }
    }
  },
  "nbformat": 4,
  "nbformat_minor": 0
}
